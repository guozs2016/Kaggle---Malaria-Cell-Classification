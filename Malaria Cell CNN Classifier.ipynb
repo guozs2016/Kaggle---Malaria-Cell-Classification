{
 "cells": [
  {
   "cell_type": "markdown",
   "metadata": {},
   "source": [
    "# Malaria Cell CNN Classifier\n",
    "\n",
    "The data of this project comes from Kaggle.com(https://www.kaggle.com/iarunava/cell-images-for-detecting-malaria).\n",
    "\n",
    "With data of Malaria Cell, we can build a CNN model and train the model with image given to tell whether a cell is infected or not."
   ]
  },
  {
   "cell_type": "code",
   "execution_count": 1,
   "metadata": {},
   "outputs": [
    {
     "name": "stderr",
     "output_type": "stream",
     "text": [
      "Using TensorFlow backend.\n"
     ]
    }
   ],
   "source": [
    "import os\n",
    "import sys\n",
    "import numpy as np\n",
    "import matplotlib.pyplot as plt \n",
    "from sklearn.model_selection import train_test_split\n",
    "from keras import Sequential\n",
    "from keras.preprocessing import image\n",
    "from keras.utils.vis_utils import model_to_dot\n",
    "from keras.utils import plot_model\n",
    "from IPython.display import SVG\n",
    "from keras.layers import Dense, Conv2D, MaxPooling2D,Dropout,BatchNormalization,Flatten"
   ]
  },
  {
   "cell_type": "markdown",
   "metadata": {},
   "source": [
    "First we load images in two folders."
   ]
  },
  {
   "cell_type": "code",
   "execution_count": 2,
   "metadata": {},
   "outputs": [],
   "source": [
    "parapath = \"data/Parasitized/\"\n",
    "uninpath = 'data/Uninfected/'\n",
    "parastized = os.listdir(parapath)\n",
    "uninfected = os.listdir(uninpath)"
   ]
  },
  {
   "cell_type": "markdown",
   "metadata": {},
   "source": [
    "Load all the image the path collected in prastized and uninfected list. In Windows there is a image thumbnail cache \"Thumb.db\" so we dont load that in our list.\n",
    "\n",
    "Change them into arrays and save in list of data.To make a target array we set up a label list with 1 to a parastized cell and 0 to an uninfected one."
   ]
  },
  {
   "cell_type": "code",
   "execution_count": 3,
   "metadata": {},
   "outputs": [
    {
     "name": "stdout",
     "output_type": "stream",
     "text": [
      "Can't add Thumbs.db in the dataset\n",
      "Can't add Thumbs.db in the dataset\n"
     ]
    }
   ],
   "source": [
    "data = []\n",
    "label = []\n",
    "for para in parastized:\n",
    "    try:\n",
    "        img =  image.load_img(parapath+para,target_size=(128,128))\n",
    "        x = image.img_to_array(img)\n",
    "        data.append(x)\n",
    "        label.append(1)\n",
    "    except:\n",
    "        print(\"Can't add \"+para+\" in the dataset\")\n",
    "for unin in uninfected:\n",
    "    try:\n",
    "        img =  image.load_img(uninpath+unin,target_size=(128,128))\n",
    "        data.append(x)\n",
    "        label.append(0)\n",
    "    except:\n",
    "        print(\"Can't add \"+unin+\" in the dataset\")  "
   ]
  },
  {
   "cell_type": "markdown",
   "metadata": {},
   "source": [
    "Change list data to array in Numpy. Note that the variable data now has a memory of 5 GB. \n",
    "\n",
    "I tried to use (224,224,3)rather than (128,128,3) as input of VGG-16, but found variable data will have a size of 15GB and raise a MemoryError."
   ]
  },
  {
   "cell_type": "code",
   "execution_count": 4,
   "metadata": {},
   "outputs": [],
   "source": [
    "data = np.array(data)\n",
    "label = np.array(label)"
   ]
  },
  {
   "cell_type": "code",
   "execution_count": 5,
   "metadata": {},
   "outputs": [
    {
     "name": "stdout",
     "output_type": "stream",
     "text": [
      "5418123408\n",
      "(27558, 128, 128, 3)\n"
     ]
    }
   ],
   "source": [
    "print(sys.getsizeof(data))\n",
    "print(data.shape)"
   ]
  },
  {
   "cell_type": "markdown",
   "metadata": {},
   "source": [
    "Now we normlize the data matrix, the range of a PGB pixel is (0,255) so divide by 255 is OK to let values in range of (0,1).\n",
    "\n",
    "Shuffle and Split data to train and test with sklearn.model_selection.train_test_split()"
   ]
  },
  {
   "cell_type": "code",
   "execution_count": 6,
   "metadata": {},
   "outputs": [],
   "source": [
    "data = data/255\n",
    "x_train, x_test, y_train, y_test = train_test_split(data,label,test_size = 0.1,random_state=0)"
   ]
  },
  {
   "cell_type": "markdown",
   "metadata": {},
   "source": [
    "Keras is a powerful python library to set up neural network models. The model set is similiar to VGG with fewer parameters and layers. "
   ]
  },
  {
   "cell_type": "code",
   "execution_count": 7,
   "metadata": {},
   "outputs": [],
   "source": [
    "def MalariaModel():\n",
    "    model = Sequential()\n",
    "    model.add(Conv2D(filters = 4, kernel_size = (3, 3), activation = 'relu', padding = 'same', name = 'a11', input_shape = (128, 128, 3)))  \n",
    "    model.add(MaxPooling2D(pool_size = (2, 2), strides = (2, 2), name = 'a12'))\n",
    "    model.add(BatchNormalization(name = 'a13'))\n",
    "    #input = (128,128,4)\n",
    "    model.add(Conv2D(filters = 8, kernel_size = (3, 3), activation = 'relu', padding = 'same', name = 'a21'))   \n",
    "    model.add(MaxPooling2D(pool_size = (2, 2), strides = (2, 2), name = 'a22'))\n",
    "    model.add(BatchNormalization(name = 'a23'))\n",
    "    #input = (64,64,8)\n",
    "    model.add(Conv2D(filters = 16, kernel_size = (3, 3), activation = 'relu', padding = 'same', name = 'a31'))   \n",
    "    model.add(MaxPooling2D(pool_size = (2, 2), strides = (2, 2), name = 'a32'))\n",
    "    model.add(BatchNormalization(name = 'a33'))\n",
    "    #input = (32,32,16)\n",
    "    model.add(Flatten())\n",
    "    model.add(Dense(256, activation = 'relu', name = 'fc1'))\n",
    "    model.add(Dense(1, activation = 'sigmoid', name = 'prediction'))\n",
    "    model.compile(loss='binary_crossentropy', optimizer='adam', metrics=['accuracy'])\n",
    "    return model"
   ]
  },
  {
   "cell_type": "markdown",
   "metadata": {},
   "source": [
    "The model has 1M parameters, a big number for a binary classficiation. We can reduce paramters while keep the performance of a model if possible."
   ]
  },
  {
   "cell_type": "code",
   "execution_count": 8,
   "metadata": {},
   "outputs": [
    {
     "name": "stdout",
     "output_type": "stream",
     "text": [
      "WARNING:tensorflow:From D:\\Anaconda3\\lib\\site-packages\\tensorflow\\python\\framework\\op_def_library.py:263: colocate_with (from tensorflow.python.framework.ops) is deprecated and will be removed in a future version.\n",
      "Instructions for updating:\n",
      "Colocations handled automatically by placer.\n",
      "_________________________________________________________________\n",
      "Layer (type)                 Output Shape              Param #   \n",
      "=================================================================\n",
      "a11 (Conv2D)                 (None, 128, 128, 4)       112       \n",
      "_________________________________________________________________\n",
      "a12 (MaxPooling2D)           (None, 64, 64, 4)         0         \n",
      "_________________________________________________________________\n",
      "a13 (BatchNormalization)     (None, 64, 64, 4)         16        \n",
      "_________________________________________________________________\n",
      "a21 (Conv2D)                 (None, 64, 64, 8)         296       \n",
      "_________________________________________________________________\n",
      "a22 (MaxPooling2D)           (None, 32, 32, 8)         0         \n",
      "_________________________________________________________________\n",
      "a23 (BatchNormalization)     (None, 32, 32, 8)         32        \n",
      "_________________________________________________________________\n",
      "a31 (Conv2D)                 (None, 32, 32, 16)        1168      \n",
      "_________________________________________________________________\n",
      "a32 (MaxPooling2D)           (None, 16, 16, 16)        0         \n",
      "_________________________________________________________________\n",
      "a33 (BatchNormalization)     (None, 16, 16, 16)        64        \n",
      "_________________________________________________________________\n",
      "flatten_1 (Flatten)          (None, 4096)              0         \n",
      "_________________________________________________________________\n",
      "fc1 (Dense)                  (None, 256)               1048832   \n",
      "_________________________________________________________________\n",
      "prediction (Dense)           (None, 1)                 257       \n",
      "=================================================================\n",
      "Total params: 1,050,777\n",
      "Trainable params: 1,050,721\n",
      "Non-trainable params: 56\n",
      "_________________________________________________________________\n"
     ]
    }
   ],
   "source": [
    "modelone = MalariaModel()\n",
    "modelone.summary()"
   ]
  },
  {
   "cell_type": "markdown",
   "metadata": {},
   "source": [
    "Train the model with training set. \n",
    "\n",
    "The model fits training data just in one epoch and I found any additional epochs will make prediction overfit and become a random guess."
   ]
  },
  {
   "cell_type": "code",
   "execution_count": 9,
   "metadata": {},
   "outputs": [
    {
     "name": "stdout",
     "output_type": "stream",
     "text": [
      "WARNING:tensorflow:From D:\\Anaconda3\\lib\\site-packages\\tensorflow\\python\\ops\\math_ops.py:3066: to_int32 (from tensorflow.python.ops.math_ops) is deprecated and will be removed in a future version.\n",
      "Instructions for updating:\n",
      "Use tf.cast instead.\n",
      "Epoch 1/1\n",
      "24802/24802 [==============================] - 153s 6ms/step - loss: 0.2297 - acc: 0.9581\n"
     ]
    }
   ],
   "source": [
    "output = modelone.fit(x_train, y_train,epochs=1, batch_size=1000)"
   ]
  },
  {
   "cell_type": "markdown",
   "metadata": {},
   "source": [
    "The model receives an accuracy of 100% on test set."
   ]
  },
  {
   "cell_type": "code",
   "execution_count": 10,
   "metadata": {},
   "outputs": [
    {
     "name": "stdout",
     "output_type": "stream",
     "text": [
      "2756/2756 [==============================] - 8s 3ms/step\n",
      "Test Accuracy : 100.00%\n"
     ]
    }
   ],
   "source": [
    "preds = modelone.evaluate(x = x_test,y = y_test)\n",
    "print(\"Test Accuracy : %.2f%%\" % (preds[1]*100))"
   ]
  },
  {
   "cell_type": "code",
   "execution_count": 11,
   "metadata": {},
   "outputs": [],
   "source": [
    "modelone.save('malariaCNNModel.h5')"
   ]
  },
  {
   "cell_type": "code",
   "execution_count": 12,
   "metadata": {},
   "outputs": [
    {
     "data": {
      "image/svg+xml": [
       "<svg height=\"921pt\" viewBox=\"0.00 0.00 160.00 921.00\" width=\"160pt\" xmlns=\"http://www.w3.org/2000/svg\" xmlns:xlink=\"http://www.w3.org/1999/xlink\">\n",
       "<g class=\"graph\" id=\"graph0\" transform=\"scale(1 1) rotate(0) translate(4 917)\">\n",
       "<title>G</title>\n",
       "<polygon fill=\"white\" points=\"-4,4 -4,-917 156,-917 156,4 -4,4\" stroke=\"none\"/>\n",
       "<!-- 2872160455536 -->\n",
       "<g class=\"node\" id=\"node1\"><title>2872160455536</title>\n",
       "<polygon fill=\"none\" points=\"31,-803.5 31,-839.5 121,-839.5 121,-803.5 31,-803.5\" stroke=\"black\"/>\n",
       "<text font-family=\"Times New Roman,serif\" font-size=\"14.00\" text-anchor=\"middle\" x=\"76\" y=\"-817.8\">a11: Conv2D</text>\n",
       "</g>\n",
       "<!-- 2872160456488 -->\n",
       "<g class=\"node\" id=\"node2\"><title>2872160456488</title>\n",
       "<polygon fill=\"none\" points=\"12.5,-730.5 12.5,-766.5 139.5,-766.5 139.5,-730.5 12.5,-730.5\" stroke=\"black\"/>\n",
       "<text font-family=\"Times New Roman,serif\" font-size=\"14.00\" text-anchor=\"middle\" x=\"76\" y=\"-744.8\">a12: MaxPooling2D</text>\n",
       "</g>\n",
       "<!-- 2872160455536&#45;&gt;2872160456488 -->\n",
       "<g class=\"edge\" id=\"edge2\"><title>2872160455536-&gt;2872160456488</title>\n",
       "<path d=\"M76,-803.313C76,-795.289 76,-785.547 76,-776.569\" fill=\"none\" stroke=\"black\"/>\n",
       "<polygon fill=\"black\" points=\"79.5001,-776.529 76,-766.529 72.5001,-776.529 79.5001,-776.529\" stroke=\"black\"/>\n",
       "</g>\n",
       "<!-- 2872160455592 -->\n",
       "<g class=\"node\" id=\"node3\"><title>2872160455592</title>\n",
       "<polygon fill=\"none\" points=\"0,-657.5 0,-693.5 152,-693.5 152,-657.5 0,-657.5\" stroke=\"black\"/>\n",
       "<text font-family=\"Times New Roman,serif\" font-size=\"14.00\" text-anchor=\"middle\" x=\"76\" y=\"-671.8\">a13: BatchNormalization</text>\n",
       "</g>\n",
       "<!-- 2872160456488&#45;&gt;2872160455592 -->\n",
       "<g class=\"edge\" id=\"edge3\"><title>2872160456488-&gt;2872160455592</title>\n",
       "<path d=\"M76,-730.313C76,-722.289 76,-712.547 76,-703.569\" fill=\"none\" stroke=\"black\"/>\n",
       "<polygon fill=\"black\" points=\"79.5001,-703.529 76,-693.529 72.5001,-703.529 79.5001,-703.529\" stroke=\"black\"/>\n",
       "</g>\n",
       "<!-- 2872160612248 -->\n",
       "<g class=\"node\" id=\"node4\"><title>2872160612248</title>\n",
       "<polygon fill=\"none\" points=\"31,-584.5 31,-620.5 121,-620.5 121,-584.5 31,-584.5\" stroke=\"black\"/>\n",
       "<text font-family=\"Times New Roman,serif\" font-size=\"14.00\" text-anchor=\"middle\" x=\"76\" y=\"-598.8\">a21: Conv2D</text>\n",
       "</g>\n",
       "<!-- 2872160455592&#45;&gt;2872160612248 -->\n",
       "<g class=\"edge\" id=\"edge4\"><title>2872160455592-&gt;2872160612248</title>\n",
       "<path d=\"M76,-657.313C76,-649.289 76,-639.547 76,-630.569\" fill=\"none\" stroke=\"black\"/>\n",
       "<polygon fill=\"black\" points=\"79.5001,-630.529 76,-620.529 72.5001,-630.529 79.5001,-630.529\" stroke=\"black\"/>\n",
       "</g>\n",
       "<!-- 2870340295648 -->\n",
       "<g class=\"node\" id=\"node5\"><title>2870340295648</title>\n",
       "<polygon fill=\"none\" points=\"12.5,-511.5 12.5,-547.5 139.5,-547.5 139.5,-511.5 12.5,-511.5\" stroke=\"black\"/>\n",
       "<text font-family=\"Times New Roman,serif\" font-size=\"14.00\" text-anchor=\"middle\" x=\"76\" y=\"-525.8\">a22: MaxPooling2D</text>\n",
       "</g>\n",
       "<!-- 2872160612248&#45;&gt;2870340295648 -->\n",
       "<g class=\"edge\" id=\"edge5\"><title>2872160612248-&gt;2870340295648</title>\n",
       "<path d=\"M76,-584.313C76,-576.289 76,-566.547 76,-557.569\" fill=\"none\" stroke=\"black\"/>\n",
       "<polygon fill=\"black\" points=\"79.5001,-557.529 76,-547.529 72.5001,-557.529 79.5001,-557.529\" stroke=\"black\"/>\n",
       "</g>\n",
       "<!-- 2870340421896 -->\n",
       "<g class=\"node\" id=\"node6\"><title>2870340421896</title>\n",
       "<polygon fill=\"none\" points=\"0,-438.5 0,-474.5 152,-474.5 152,-438.5 0,-438.5\" stroke=\"black\"/>\n",
       "<text font-family=\"Times New Roman,serif\" font-size=\"14.00\" text-anchor=\"middle\" x=\"76\" y=\"-452.8\">a23: BatchNormalization</text>\n",
       "</g>\n",
       "<!-- 2870340295648&#45;&gt;2870340421896 -->\n",
       "<g class=\"edge\" id=\"edge6\"><title>2870340295648-&gt;2870340421896</title>\n",
       "<path d=\"M76,-511.313C76,-503.289 76,-493.547 76,-484.569\" fill=\"none\" stroke=\"black\"/>\n",
       "<polygon fill=\"black\" points=\"79.5001,-484.529 76,-474.529 72.5001,-484.529 79.5001,-484.529\" stroke=\"black\"/>\n",
       "</g>\n",
       "<!-- 2870340421728 -->\n",
       "<g class=\"node\" id=\"node7\"><title>2870340421728</title>\n",
       "<polygon fill=\"none\" points=\"31,-365.5 31,-401.5 121,-401.5 121,-365.5 31,-365.5\" stroke=\"black\"/>\n",
       "<text font-family=\"Times New Roman,serif\" font-size=\"14.00\" text-anchor=\"middle\" x=\"76\" y=\"-379.8\">a31: Conv2D</text>\n",
       "</g>\n",
       "<!-- 2870340421896&#45;&gt;2870340421728 -->\n",
       "<g class=\"edge\" id=\"edge7\"><title>2870340421896-&gt;2870340421728</title>\n",
       "<path d=\"M76,-438.313C76,-430.289 76,-420.547 76,-411.569\" fill=\"none\" stroke=\"black\"/>\n",
       "<polygon fill=\"black\" points=\"79.5001,-411.529 76,-401.529 72.5001,-411.529 79.5001,-411.529\" stroke=\"black\"/>\n",
       "</g>\n",
       "<!-- 2877038636672 -->\n",
       "<g class=\"node\" id=\"node8\"><title>2877038636672</title>\n",
       "<polygon fill=\"none\" points=\"12.5,-292.5 12.5,-328.5 139.5,-328.5 139.5,-292.5 12.5,-292.5\" stroke=\"black\"/>\n",
       "<text font-family=\"Times New Roman,serif\" font-size=\"14.00\" text-anchor=\"middle\" x=\"76\" y=\"-306.8\">a32: MaxPooling2D</text>\n",
       "</g>\n",
       "<!-- 2870340421728&#45;&gt;2877038636672 -->\n",
       "<g class=\"edge\" id=\"edge8\"><title>2870340421728-&gt;2877038636672</title>\n",
       "<path d=\"M76,-365.313C76,-357.289 76,-347.547 76,-338.569\" fill=\"none\" stroke=\"black\"/>\n",
       "<polygon fill=\"black\" points=\"79.5001,-338.529 76,-328.529 72.5001,-338.529 79.5001,-338.529\" stroke=\"black\"/>\n",
       "</g>\n",
       "<!-- 2877038904320 -->\n",
       "<g class=\"node\" id=\"node9\"><title>2877038904320</title>\n",
       "<polygon fill=\"none\" points=\"0,-219.5 0,-255.5 152,-255.5 152,-219.5 0,-219.5\" stroke=\"black\"/>\n",
       "<text font-family=\"Times New Roman,serif\" font-size=\"14.00\" text-anchor=\"middle\" x=\"76\" y=\"-233.8\">a33: BatchNormalization</text>\n",
       "</g>\n",
       "<!-- 2877038636672&#45;&gt;2877038904320 -->\n",
       "<g class=\"edge\" id=\"edge9\"><title>2877038636672-&gt;2877038904320</title>\n",
       "<path d=\"M76,-292.313C76,-284.289 76,-274.547 76,-265.569\" fill=\"none\" stroke=\"black\"/>\n",
       "<polygon fill=\"black\" points=\"79.5001,-265.529 76,-255.529 72.5001,-265.529 79.5001,-265.529\" stroke=\"black\"/>\n",
       "</g>\n",
       "<!-- 2877039685304 -->\n",
       "<g class=\"node\" id=\"node10\"><title>2877039685304</title>\n",
       "<polygon fill=\"none\" points=\"21.5,-146.5 21.5,-182.5 130.5,-182.5 130.5,-146.5 21.5,-146.5\" stroke=\"black\"/>\n",
       "<text font-family=\"Times New Roman,serif\" font-size=\"14.00\" text-anchor=\"middle\" x=\"76\" y=\"-160.8\">flatten_1: Flatten</text>\n",
       "</g>\n",
       "<!-- 2877038904320&#45;&gt;2877039685304 -->\n",
       "<g class=\"edge\" id=\"edge10\"><title>2877038904320-&gt;2877039685304</title>\n",
       "<path d=\"M76,-219.313C76,-211.289 76,-201.547 76,-192.569\" fill=\"none\" stroke=\"black\"/>\n",
       "<polygon fill=\"black\" points=\"79.5001,-192.529 76,-182.529 72.5001,-192.529 79.5001,-192.529\" stroke=\"black\"/>\n",
       "</g>\n",
       "<!-- 2877039889768 -->\n",
       "<g class=\"node\" id=\"node11\"><title>2877039889768</title>\n",
       "<polygon fill=\"none\" points=\"38,-73.5 38,-109.5 114,-109.5 114,-73.5 38,-73.5\" stroke=\"black\"/>\n",
       "<text font-family=\"Times New Roman,serif\" font-size=\"14.00\" text-anchor=\"middle\" x=\"76\" y=\"-87.8\">fc1: Dense</text>\n",
       "</g>\n",
       "<!-- 2877039685304&#45;&gt;2877039889768 -->\n",
       "<g class=\"edge\" id=\"edge11\"><title>2877039685304-&gt;2877039889768</title>\n",
       "<path d=\"M76,-146.313C76,-138.289 76,-128.547 76,-119.569\" fill=\"none\" stroke=\"black\"/>\n",
       "<polygon fill=\"black\" points=\"79.5001,-119.529 76,-109.529 72.5001,-119.529 79.5001,-119.529\" stroke=\"black\"/>\n",
       "</g>\n",
       "<!-- 2877040809184 -->\n",
       "<g class=\"node\" id=\"node12\"><title>2877040809184</title>\n",
       "<polygon fill=\"none\" points=\"19,-0.5 19,-36.5 133,-36.5 133,-0.5 19,-0.5\" stroke=\"black\"/>\n",
       "<text font-family=\"Times New Roman,serif\" font-size=\"14.00\" text-anchor=\"middle\" x=\"76\" y=\"-14.8\">prediction: Dense</text>\n",
       "</g>\n",
       "<!-- 2877039889768&#45;&gt;2877040809184 -->\n",
       "<g class=\"edge\" id=\"edge12\"><title>2877039889768-&gt;2877040809184</title>\n",
       "<path d=\"M76,-73.3129C76,-65.2895 76,-55.5475 76,-46.5691\" fill=\"none\" stroke=\"black\"/>\n",
       "<polygon fill=\"black\" points=\"79.5001,-46.5288 76,-36.5288 72.5001,-46.5289 79.5001,-46.5288\" stroke=\"black\"/>\n",
       "</g>\n",
       "<!-- 2872160455984 -->\n",
       "<g class=\"node\" id=\"node13\"><title>2872160455984</title>\n",
       "<polygon fill=\"none\" points=\"24,-876.5 24,-912.5 128,-912.5 128,-876.5 24,-876.5\" stroke=\"black\"/>\n",
       "<text font-family=\"Times New Roman,serif\" font-size=\"14.00\" text-anchor=\"middle\" x=\"76\" y=\"-890.8\">2872160455984</text>\n",
       "</g>\n",
       "<!-- 2872160455984&#45;&gt;2872160455536 -->\n",
       "<g class=\"edge\" id=\"edge1\"><title>2872160455984-&gt;2872160455536</title>\n",
       "<path d=\"M76,-876.313C76,-868.289 76,-858.547 76,-849.569\" fill=\"none\" stroke=\"black\"/>\n",
       "<polygon fill=\"black\" points=\"79.5001,-849.529 76,-839.529 72.5001,-849.529 79.5001,-849.529\" stroke=\"black\"/>\n",
       "</g>\n",
       "</g>\n",
       "</svg>"
      ],
      "text/plain": [
       "<IPython.core.display.SVG object>"
      ]
     },
     "execution_count": 12,
     "metadata": {},
     "output_type": "execute_result"
    }
   ],
   "source": [
    "modelpic = plot_model(modelone, to_file='model.png')\n",
    "SVG(model_to_dot(modelone).create(prog='dot', format='svg'))"
   ]
  },
  {
   "cell_type": "code",
   "execution_count": null,
   "metadata": {},
   "outputs": [],
   "source": []
  }
 ],
 "metadata": {
  "kernelspec": {
   "display_name": "Python 3",
   "language": "python",
   "name": "python3"
  },
  "language_info": {
   "codemirror_mode": {
    "name": "ipython",
    "version": 3
   },
   "file_extension": ".py",
   "mimetype": "text/x-python",
   "name": "python",
   "nbconvert_exporter": "python",
   "pygments_lexer": "ipython3",
   "version": "3.7.1"
  }
 },
 "nbformat": 4,
 "nbformat_minor": 2
}
